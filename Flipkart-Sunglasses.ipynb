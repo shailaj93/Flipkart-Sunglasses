{
 "cells": [
  {
   "cell_type": "code",
   "execution_count": 1,
   "id": "a75ede2a",
   "metadata": {},
   "outputs": [
    {
     "name": "stdout",
     "output_type": "stream",
     "text": [
      "Requirement already satisfied: selenium in c:\\users\\ayushi\\anaconda3\\lib\\site-packages (4.1.0)\n",
      "Requirement already satisfied: trio-websocket~=0.9 in c:\\users\\ayushi\\anaconda3\\lib\\site-packages (from selenium) (0.9.2)\n",
      "Requirement already satisfied: urllib3[secure]~=1.26 in c:\\users\\ayushi\\anaconda3\\lib\\site-packages (from selenium) (1.26.4)\n",
      "Requirement already satisfied: trio~=0.17 in c:\\users\\ayushi\\anaconda3\\lib\\site-packages (from selenium) (0.19.0)\n",
      "Requirement already satisfied: async-generator>=1.9 in c:\\users\\ayushi\\anaconda3\\lib\\site-packages (from trio~=0.17->selenium) (1.10)\n",
      "Requirement already satisfied: attrs>=19.2.0 in c:\\users\\ayushi\\anaconda3\\lib\\site-packages (from trio~=0.17->selenium) (20.3.0)\n",
      "Requirement already satisfied: sniffio in c:\\users\\ayushi\\anaconda3\\lib\\site-packages (from trio~=0.17->selenium) (1.2.0)\n",
      "Requirement already satisfied: outcome in c:\\users\\ayushi\\anaconda3\\lib\\site-packages (from trio~=0.17->selenium) (1.1.0)\n",
      "Requirement already satisfied: sortedcontainers in c:\\users\\ayushi\\anaconda3\\lib\\site-packages (from trio~=0.17->selenium) (2.3.0)\n",
      "Requirement already satisfied: cffi>=1.14 in c:\\users\\ayushi\\anaconda3\\lib\\site-packages (from trio~=0.17->selenium) (1.14.5)\n",
      "Requirement already satisfied: idna in c:\\users\\ayushi\\anaconda3\\lib\\site-packages (from trio~=0.17->selenium) (2.10)\n",
      "Requirement already satisfied: pycparser in c:\\users\\ayushi\\anaconda3\\lib\\site-packages (from cffi>=1.14->trio~=0.17->selenium) (2.20)\n",
      "Requirement already satisfied: wsproto>=0.14 in c:\\users\\ayushi\\anaconda3\\lib\\site-packages (from trio-websocket~=0.9->selenium) (1.0.0)\n",
      "Requirement already satisfied: cryptography>=1.3.4 in c:\\users\\ayushi\\anaconda3\\lib\\site-packages (from urllib3[secure]~=1.26->selenium) (3.4.7)\n",
      "Requirement already satisfied: certifi in c:\\users\\ayushi\\anaconda3\\lib\\site-packages (from urllib3[secure]~=1.26->selenium) (2020.12.5)\n",
      "Requirement already satisfied: pyOpenSSL>=0.14 in c:\\users\\ayushi\\anaconda3\\lib\\site-packages (from urllib3[secure]~=1.26->selenium) (20.0.1)\n",
      "Requirement already satisfied: six>=1.5.2 in c:\\users\\ayushi\\anaconda3\\lib\\site-packages (from pyOpenSSL>=0.14->urllib3[secure]~=1.26->selenium) (1.15.0)\n",
      "Requirement already satisfied: h11<1,>=0.9.0 in c:\\users\\ayushi\\anaconda3\\lib\\site-packages (from wsproto>=0.14->trio-websocket~=0.9->selenium) (0.12.0)\n"
     ]
    }
   ],
   "source": [
    "!pip install selenium"
   ]
  },
  {
   "cell_type": "code",
   "execution_count": 2,
   "id": "373b6e32",
   "metadata": {},
   "outputs": [],
   "source": [
    "import selenium\n",
    "from selenium import webdriver\n",
    "import pandas as pd\n",
    "import warnings \n",
    "warnings.filterwarnings('ignore')"
   ]
  },
  {
   "cell_type": "code",
   "execution_count": 65,
   "id": "433feb5b",
   "metadata": {},
   "outputs": [],
   "source": [
    "driver=webdriver.Chrome(r'C:\\Users\\AYUSHI\\Downloads\\chromedriver_win32\\chromedriver.exe')"
   ]
  },
  {
   "cell_type": "code",
   "execution_count": 66,
   "id": "1c0da8f1",
   "metadata": {},
   "outputs": [],
   "source": [
    "url='https://www.flipkart.com/'\n",
    "driver.get(url)"
   ]
  },
  {
   "cell_type": "code",
   "execution_count": 67,
   "id": "4b97cf09",
   "metadata": {},
   "outputs": [
    {
     "data": {
      "text/plain": [
       "<selenium.webdriver.remote.webelement.WebElement (session=\"540c648126c9b46582c7ca81cc6426f6\", element=\"f52e423b-e5f3-47f4-81a2-db132c6149e2\")>"
      ]
     },
     "execution_count": 67,
     "metadata": {},
     "output_type": "execute_result"
    }
   ],
   "source": [
    "search_field=driver.find_element_by_xpath('/html/body/div[1]/div/div[1]/div[1]/div[2]/div[2]/form/div/div/input')\n",
    "search_field"
   ]
  },
  {
   "cell_type": "code",
   "execution_count": 68,
   "id": "4bda2a6d",
   "metadata": {},
   "outputs": [],
   "source": [
    "search_field.send_keys('Sunglasses')"
   ]
  },
  {
   "cell_type": "code",
   "execution_count": 69,
   "id": "eebe328d",
   "metadata": {},
   "outputs": [
    {
     "data": {
      "text/plain": [
       "<selenium.webdriver.remote.webelement.WebElement (session=\"540c648126c9b46582c7ca81cc6426f6\", element=\"8aea9bba-cde8-44d7-b38d-bb33e26c3afe\")>"
      ]
     },
     "execution_count": 69,
     "metadata": {},
     "output_type": "execute_result"
    }
   ],
   "source": [
    "search_btn=driver.find_element_by_xpath('/html/body/div[1]/div/div[1]/div[1]/div[2]/div[2]/form/div/button')\n",
    "search_btn"
   ]
  },
  {
   "cell_type": "code",
   "execution_count": 70,
   "id": "7dbabe6d",
   "metadata": {},
   "outputs": [],
   "source": [
    "search_btn.click()"
   ]
  },
  {
   "cell_type": "code",
   "execution_count": 71,
   "id": "4a38e15d",
   "metadata": {},
   "outputs": [
    {
     "data": {
      "text/plain": [
       "40"
      ]
     },
     "execution_count": 71,
     "metadata": {},
     "output_type": "execute_result"
    }
   ],
   "source": [
    "brands_tags=driver.find_elements_by_xpath('//div[@class=\"_2WkVRV\"]')\n",
    "len(brands_tags)"
   ]
  },
  {
   "cell_type": "code",
   "execution_count": 72,
   "id": "a3b2ba38",
   "metadata": {},
   "outputs": [
    {
     "data": {
      "text/plain": [
       "['VINCENT CHASE',\n",
       " 'VINCENT CHASE',\n",
       " 'SRPM',\n",
       " 'kingsunglasses',\n",
       " 'SHAAH COLLECTIONS',\n",
       " 'Fastrack',\n",
       " 'Elligator',\n",
       " 'ROZZETTA CRAFT',\n",
       " 'PIRASO',\n",
       " 'New Specs',\n",
       " 'Fastrack',\n",
       " 'VINCENT CHASE',\n",
       " 'PIRASO',\n",
       " 'ROZZETTA CRAFT',\n",
       " 'SUNBEE',\n",
       " 'VINCENT CHASE',\n",
       " 'kingsunglasses',\n",
       " 'New Specs',\n",
       " 'PHENOMENAL',\n",
       " 'VILLAIN',\n",
       " 'PIRASO',\n",
       " 'PHENOMENAL',\n",
       " 'SHAAH COLLECTIONS',\n",
       " 'VINCENT CHASE',\n",
       " 'Rich Club',\n",
       " 'ROZZETTA CRAFT',\n",
       " 'Fastrack',\n",
       " 'NuVew',\n",
       " 'ROYAL SON',\n",
       " 'Johaena',\n",
       " 'PIRASO',\n",
       " 'AISLIN',\n",
       " 'PIRASO',\n",
       " 'kingsunglasses',\n",
       " 'Lee Topper',\n",
       " 'AISLIN',\n",
       " 'Rich Club',\n",
       " 'ROYAL SON',\n",
       " 'Fastrack',\n",
       " 'VINCENT CHASE']"
      ]
     },
     "execution_count": 72,
     "metadata": {},
     "output_type": "execute_result"
    }
   ],
   "source": [
    "brand_titles=[]\n",
    "for i in brands_tags:\n",
    "    brand_titles.append(i.text)\n",
    "brand_titles[0:40]"
   ]
  },
  {
   "cell_type": "code",
   "execution_count": 73,
   "id": "aa4e26d7",
   "metadata": {},
   "outputs": [
    {
     "data": {
      "text/plain": [
       "40"
      ]
     },
     "execution_count": 73,
     "metadata": {},
     "output_type": "execute_result"
    }
   ],
   "source": [
    "description_tags=driver.find_elements_by_xpath('//a[@class=\"IRpwTa\"]')\n",
    "len(description_tags)"
   ]
  },
  {
   "cell_type": "code",
   "execution_count": 74,
   "id": "64b9f92f",
   "metadata": {},
   "outputs": [
    {
     "data": {
      "text/plain": [
       "['by Lenskart UV Protection Aviator Sunglasses (Free Size...',\n",
       " 'by Lenskart Polarized, UV Protection Aviator Sunglasses...',\n",
       " 'UV Protection Wayfarer Sunglasses (56)',\n",
       " 'UV Protection Round Sunglasses (54)',\n",
       " 'UV Protection, Polarized, Mirrored Rectangular Sunglass...',\n",
       " 'UV Protection Wayfarer Sunglasses (Free Size)',\n",
       " 'UV Protection Round Sunglasses (54)',\n",
       " 'UV Protection, Gradient Retro Square Sunglasses (Free S...',\n",
       " 'UV Protection Aviator Sunglasses (54)',\n",
       " 'UV Protection Rectangular Sunglasses (Free Size)',\n",
       " 'Gradient, UV Protection Wayfarer Sunglasses (Free Size)',\n",
       " 'by Lenskart Polarized, UV Protection Wayfarer Sunglasse...',\n",
       " 'UV Protection Aviator Sunglasses (54)',\n",
       " 'UV Protection, Gradient Rectangular Sunglasses (Free Si...',\n",
       " 'UV Protection, Polarized, Mirrored Round Sunglasses (Fr...',\n",
       " 'by Lenskart Polarized, UV Protection Aviator Sunglasses...',\n",
       " 'Mirrored, UV Protection Wayfarer Sunglasses (53)',\n",
       " 'Mirrored, UV Protection, Riding Glasses, Others Round S...',\n",
       " 'UV Protection Retro Square Sunglasses (Free Size)',\n",
       " 'Others Wayfarer Sunglasses (Free Size)',\n",
       " 'UV Protection Wayfarer Sunglasses (32)',\n",
       " 'UV Protection, Mirrored Retro Square Sunglasses (53)',\n",
       " 'UV Protection, Polarized, Mirrored Rectangular Sunglass...',\n",
       " 'by Lenskart UV Protection Wayfarer Sunglasses (51)',\n",
       " 'Polarized Round Sunglasses (48)',\n",
       " 'UV Protection Retro Square Sunglasses (Free Size)',\n",
       " 'UV Protection Aviator Sunglasses (Free Size)',\n",
       " 'UV Protection Aviator Sunglasses (57)',\n",
       " 'Mirrored Aviator Sunglasses (55)',\n",
       " 'Riding Glasses, UV Protection Oval Sunglasses (48)',\n",
       " 'UV Protection Aviator Sunglasses (54)',\n",
       " 'UV Protection Wayfarer, Rectangular Sunglasses (55)',\n",
       " 'UV Protection Aviator Sunglasses (58)',\n",
       " 'UV Protection, Riding Glasses, Mirrored Wayfarer Sungla...',\n",
       " 'Riding Glasses, Night Vision Wrap-around Sunglasses (Fr...',\n",
       " 'UV Protection Wayfarer Sunglasses (61)',\n",
       " 'UV Protection Round Sunglasses (50)',\n",
       " 'UV Protection Rectangular Sunglasses (58)',\n",
       " 'UV Protection Shield Sunglasses (Free Size)',\n",
       " 'by Lenskart UV Protection Round Sunglasses (48)']"
      ]
     },
     "execution_count": 74,
     "metadata": {},
     "output_type": "execute_result"
    }
   ],
   "source": [
    "description_names=[]\n",
    "for j in description_tags:\n",
    "    description_names.append(j.text)\n",
    "description_names"
   ]
  },
  {
   "cell_type": "code",
   "execution_count": 75,
   "id": "3f49d323",
   "metadata": {},
   "outputs": [
    {
     "data": {
      "text/plain": [
       "40"
      ]
     },
     "execution_count": 75,
     "metadata": {},
     "output_type": "execute_result"
    }
   ],
   "source": [
    "price_tags=driver.find_elements_by_xpath('//div[@class=\"_30jeq3\"]')\n",
    "len(price_tags)"
   ]
  },
  {
   "cell_type": "code",
   "execution_count": 76,
   "id": "eaa10eb6",
   "metadata": {},
   "outputs": [
    {
     "data": {
      "text/plain": [
       "['₹999',\n",
       " '₹999',\n",
       " '₹188',\n",
       " '₹189',\n",
       " '₹165',\n",
       " '₹759',\n",
       " '₹248',\n",
       " '₹426',\n",
       " '₹200',\n",
       " '₹259',\n",
       " '₹509',\n",
       " '₹999',\n",
       " '₹200',\n",
       " '₹383',\n",
       " '₹271',\n",
       " '₹999',\n",
       " '₹274',\n",
       " '₹262',\n",
       " '₹309',\n",
       " '₹522',\n",
       " '₹190',\n",
       " '₹299',\n",
       " '₹181',\n",
       " '₹999',\n",
       " '₹165',\n",
       " '₹474',\n",
       " '₹639',\n",
       " '₹325',\n",
       " '₹359',\n",
       " '₹156',\n",
       " '₹200',\n",
       " '₹1,040',\n",
       " '₹299',\n",
       " '₹187',\n",
       " '₹276',\n",
       " '₹698',\n",
       " '₹355',\n",
       " '₹449',\n",
       " '₹809',\n",
       " '₹1,415']"
      ]
     },
     "execution_count": 76,
     "metadata": {},
     "output_type": "execute_result"
    }
   ],
   "source": [
    "price=[]\n",
    "for k in price_tags:\n",
    "    price.append(k.text)\n",
    "price"
   ]
  },
  {
   "cell_type": "code",
   "execution_count": 77,
   "id": "cc1e145a",
   "metadata": {},
   "outputs": [
    {
     "data": {
      "text/plain": [
       "40"
      ]
     },
     "execution_count": 77,
     "metadata": {},
     "output_type": "execute_result"
    }
   ],
   "source": [
    "discount_tags=driver.find_elements_by_xpath('//div[@class=\"_3Ay6Sb\"]')\n",
    "len(discount_tags)"
   ]
  },
  {
   "cell_type": "code",
   "execution_count": 78,
   "id": "48dbe897",
   "metadata": {},
   "outputs": [
    {
     "data": {
      "text/plain": [
       "['50% off',\n",
       " '60% off',\n",
       " '85% off',\n",
       " '82% off',\n",
       " '90% off',\n",
       " '15% off',\n",
       " '90% off',\n",
       " '78% off',\n",
       " '87% off',\n",
       " '87% off',\n",
       " '36% off',\n",
       " '50% off',\n",
       " '87% off',\n",
       " '80% off',\n",
       " '84% off',\n",
       " '60% off',\n",
       " '86% off',\n",
       " '83% off',\n",
       " '84% off',\n",
       " '47% off',\n",
       " '88% off',\n",
       " '85% off',\n",
       " '81% off',\n",
       " '50% off',\n",
       " '66% off',\n",
       " '78% off',\n",
       " '20% off',\n",
       " '64% off',\n",
       " '76% off',\n",
       " '86% off',\n",
       " '87% off',\n",
       " '73% off',\n",
       " '88% off',\n",
       " '84% off',\n",
       " '88% off',\n",
       " '74% off',\n",
       " '64% off',\n",
       " '70% off',\n",
       " '10% off',\n",
       " '29% off']"
      ]
     },
     "execution_count": 78,
     "metadata": {},
     "output_type": "execute_result"
    }
   ],
   "source": [
    "discount=[]\n",
    "for k in discount_tags:\n",
    "    discount.append(k.text)\n",
    "discount"
   ]
  },
  {
   "cell_type": "code",
   "execution_count": 79,
   "id": "c5374102",
   "metadata": {},
   "outputs": [
    {
     "data": {
      "text/plain": [
       "<selenium.webdriver.remote.webelement.WebElement (session=\"540c648126c9b46582c7ca81cc6426f6\", element=\"d7ee4c56-08ba-4873-95e2-78df2de5ec1e\")>"
      ]
     },
     "execution_count": 79,
     "metadata": {},
     "output_type": "execute_result"
    }
   ],
   "source": [
    "next_btn=driver.find_element_by_xpath('/html/body/div[1]/div/div[3]/div[1]/div[2]/div[12]/div/div/nav/a[11]/span')\n",
    "next_btn"
   ]
  },
  {
   "cell_type": "code",
   "execution_count": 80,
   "id": "d87668e4",
   "metadata": {},
   "outputs": [],
   "source": [
    "next_btn.click()"
   ]
  },
  {
   "cell_type": "code",
   "execution_count": 81,
   "id": "380db1ed",
   "metadata": {},
   "outputs": [
    {
     "data": {
      "text/plain": [
       "40"
      ]
     },
     "execution_count": 81,
     "metadata": {},
     "output_type": "execute_result"
    }
   ],
   "source": [
    "brands_tags=driver.find_elements_by_xpath('//div[@class=\"_2WkVRV\"]')\n",
    "len(brands_tags)"
   ]
  },
  {
   "cell_type": "code",
   "execution_count": 82,
   "id": "4c263858",
   "metadata": {},
   "outputs": [
    {
     "data": {
      "text/plain": [
       "['Rich Club',\n",
       " 'ROZZETTA CRAFT',\n",
       " 'Fastrack',\n",
       " 'VINCENT CHASE',\n",
       " 'Elligator',\n",
       " 'Singco India',\n",
       " 'kingsunglasses',\n",
       " 'Anemone',\n",
       " 'hipe',\n",
       " 'agera',\n",
       " 'SUNBEE',\n",
       " 'Anemone',\n",
       " 'ROYAL SON',\n",
       " 'PHENOMENAL',\n",
       " 'ROZZETTA CRAFT',\n",
       " 'AISLIN',\n",
       " 'kingsunglasses',\n",
       " 'ROYAL SON',\n",
       " 'kingsunglasses',\n",
       " 'VINCENT CHASE',\n",
       " 'PIRASO',\n",
       " 'maxa',\n",
       " 'PHENOMENAL',\n",
       " 'AISLIN',\n",
       " 'Lee Topper',\n",
       " 'SUNBEE',\n",
       " 'ROYAL SON',\n",
       " 'VINCENT CHASE',\n",
       " 'DEIXELS',\n",
       " 'Singco India',\n",
       " 'Elligator',\n",
       " 'AISLIN',\n",
       " 'GANSTA',\n",
       " 'PIRASO',\n",
       " 'Elligator',\n",
       " 'AISLIN',\n",
       " 'ROYAL SON',\n",
       " 'Silver Kartz',\n",
       " 'ROYAL SON',\n",
       " 'AISLIN']"
      ]
     },
     "execution_count": 82,
     "metadata": {},
     "output_type": "execute_result"
    }
   ],
   "source": [
    "brand_titles2=[]\n",
    "for i in brands_tags:\n",
    "    brand_titles2.append(i.text)\n",
    "brand_titles2[0:40]"
   ]
  },
  {
   "cell_type": "code",
   "execution_count": 83,
   "id": "29e229b9",
   "metadata": {},
   "outputs": [
    {
     "data": {
      "text/plain": [
       "39"
      ]
     },
     "execution_count": 83,
     "metadata": {},
     "output_type": "execute_result"
    }
   ],
   "source": [
    "description_tags=driver.find_elements_by_xpath('//a[@class=\"IRpwTa\"]')\n",
    "len(description_tags)"
   ]
  },
  {
   "cell_type": "code",
   "execution_count": 100,
   "id": "2240e6e3",
   "metadata": {},
   "outputs": [
    {
     "data": {
      "text/plain": [
       "['Mirrored, UV Protection Round Sunglasses (Free Size)',\n",
       " 'UV Protection, Gradient, Mirrored, Riding Glasses Aviat...',\n",
       " 'Gradient, UV Protection Wayfarer Sunglasses (Free Size)',\n",
       " 'Polarized, UV Protection, Gradient Round Sunglasses (56...',\n",
       " 'UV Protection, Mirrored Aviator Sunglasses (Free Size)',\n",
       " 'UV Protection, Gradient Round Sunglasses (Free Size)',\n",
       " 'Polarized Round Sunglasses (48)',\n",
       " 'Toughened Glass Lens, UV Protection Aviator Sunglasses ...',\n",
       " 'UV Protection Rectangular Sunglasses (Free Size)',\n",
       " 'UV Protection Round Sunglasses (Free Size)',\n",
       " 'UV Protection Round Sunglasses (Free Size)',\n",
       " 'UV Protection, Gradient Wayfarer, Over-sized Sunglasses...',\n",
       " 'UV Protection Wayfarer Sunglasses (Free Size)',\n",
       " 'Mirrored Aviator Sunglasses (58)',\n",
       " 'Mirrored, UV Protection Aviator Sunglasses (56)',\n",
       " 'UV Protection, Gradient Butterfly, Wayfarer Sunglasses ...',\n",
       " 'UV Protection Round Sunglasses (Free Size)',\n",
       " 'UV Protection, Gradient Round Sunglasses (Free Size)',\n",
       " 'UV Protection Round Sunglasses (Free Size)',\n",
       " 'by Lenskart Polarized, UV Protection Aviator Sunglasses...',\n",
       " 'UV Protection, Gradient Butterfly, Retro Square Sunglas...',\n",
       " 'UV Protection Wayfarer Sunglasses (55)',\n",
       " 'UV Protection Wrap-around Sunglasses (63)',\n",
       " 'UV Protection, Gradient Aviator Sunglasses (61)',\n",
       " 'UV Protection Clubmaster Sunglasses (Free Size)',\n",
       " 'Gradient, UV Protection Wayfarer Sunglasses (Free Size)',\n",
       " 'UV Protection, Gradient, Night Vision Retro Square Sung...',\n",
       " 'UV Protection, Mirrored, Gradient Cat-eye Sunglasses (6...',\n",
       " 'UV Protection Round Sunglasses (55)',\n",
       " 'UV Protection, Others Round Sunglasses (48)',\n",
       " 'UV Protection, Riding Glasses Rectangular, Retro Square...',\n",
       " 'UV Protection Shield, Wayfarer Sunglasses (61)',\n",
       " 'UV Protection Sports Sunglasses (Free Size)',\n",
       " 'Mirrored, Gradient, Riding Glasses Round Sunglasses (55...',\n",
       " 'UV Protection Round, Oval Sunglasses (54)',\n",
       " 'UV Protection, Gradient Over-sized, Retro Square Sungla...',\n",
       " 'UV Protection Wayfarer Sunglasses (53)',\n",
       " 'Gradient, Toughened Glass Lens, UV Protection Retro Squ...',\n",
       " 'Mirrored, UV Protection Wayfarer Sunglasses (Free Size)',\n",
       " 'UV Protection, Gradient Rectangular Sunglasses (Free Si...']"
      ]
     },
     "execution_count": 100,
     "metadata": {},
     "output_type": "execute_result"
    }
   ],
   "source": [
    "description_names2=[]\n",
    "for j in description_tags:\n",
    "    description_names2.append(j.text)\n",
    "description_names2[0:40]"
   ]
  },
  {
   "cell_type": "code",
   "execution_count": 85,
   "id": "8a701d03",
   "metadata": {},
   "outputs": [
    {
     "data": {
      "text/plain": [
       "40"
      ]
     },
     "execution_count": 85,
     "metadata": {},
     "output_type": "execute_result"
    }
   ],
   "source": [
    "price_tags=driver.find_elements_by_xpath('//div[@class=\"_30jeq3\"]')\n",
    "len(price_tags)"
   ]
  },
  {
   "cell_type": "code",
   "execution_count": 86,
   "id": "e63ff8a4",
   "metadata": {},
   "outputs": [
    {
     "data": {
      "text/plain": [
       "['₹355',\n",
       " '₹348',\n",
       " '₹1,089',\n",
       " '₹999',\n",
       " '₹265',\n",
       " '₹201',\n",
       " '₹273',\n",
       " '₹499',\n",
       " '₹178',\n",
       " '₹196',\n",
       " '₹243',\n",
       " '₹499',\n",
       " '₹359',\n",
       " '₹299',\n",
       " '₹349',\n",
       " '₹459',\n",
       " '₹299',\n",
       " '₹359',\n",
       " '₹192',\n",
       " '₹1,179',\n",
       " '₹349',\n",
       " '₹144',\n",
       " '₹287',\n",
       " '₹1,066',\n",
       " '₹375',\n",
       " '₹276',\n",
       " '₹449',\n",
       " '₹1,415',\n",
       " '₹202',\n",
       " '₹203',\n",
       " '₹291',\n",
       " '₹687',\n",
       " '₹209',\n",
       " '₹261',\n",
       " '₹239',\n",
       " '₹675',\n",
       " '₹664',\n",
       " '₹246',\n",
       " '₹359',\n",
       " '₹975']"
      ]
     },
     "execution_count": 86,
     "metadata": {},
     "output_type": "execute_result"
    }
   ],
   "source": [
    "price2=[]\n",
    "for k in price_tags:\n",
    "    price2.append(k.text)\n",
    "price2"
   ]
  },
  {
   "cell_type": "code",
   "execution_count": 87,
   "id": "dfc1d969",
   "metadata": {},
   "outputs": [
    {
     "data": {
      "text/plain": [
       "40"
      ]
     },
     "execution_count": 87,
     "metadata": {},
     "output_type": "execute_result"
    }
   ],
   "source": [
    "discount_tags=driver.find_elements_by_xpath('//div[@class=\"_3Ay6Sb\"]')\n",
    "len(discount_tags)"
   ]
  },
  {
   "cell_type": "code",
   "execution_count": 88,
   "id": "2d5b72a9",
   "metadata": {},
   "outputs": [
    {
     "data": {
      "text/plain": [
       "['64% off',\n",
       " '84% off',\n",
       " '16% off',\n",
       " '50% off',\n",
       " '79% off',\n",
       " '86% off',\n",
       " '83% off',\n",
       " '75% off',\n",
       " '85% off',\n",
       " '82% off',\n",
       " '81% off',\n",
       " '83% off',\n",
       " '76% off',\n",
       " '85% off',\n",
       " '82% off',\n",
       " '73% off',\n",
       " '81% off',\n",
       " '76% off',\n",
       " '82% off',\n",
       " '41% off',\n",
       " '86% off',\n",
       " '79% off',\n",
       " '85% off',\n",
       " '74% off',\n",
       " '71% off',\n",
       " '78% off',\n",
       " '70% off',\n",
       " '43% off',\n",
       " '83% off',\n",
       " '70% off',\n",
       " '85% off',\n",
       " '72% off',\n",
       " '88% off',\n",
       " '83% off',\n",
       " '88% off',\n",
       " '68% off',\n",
       " '66% off',\n",
       " '83% off',\n",
       " '76% off',\n",
       " '73% off']"
      ]
     },
     "execution_count": 88,
     "metadata": {},
     "output_type": "execute_result"
    }
   ],
   "source": [
    "discount2=[]\n",
    "for k in discount_tags:\n",
    "    discount2.append(k.text)\n",
    "discount2"
   ]
  },
  {
   "cell_type": "code",
   "execution_count": 89,
   "id": "475123dd",
   "metadata": {},
   "outputs": [
    {
     "data": {
      "text/plain": [
       "<selenium.webdriver.remote.webelement.WebElement (session=\"540c648126c9b46582c7ca81cc6426f6\", element=\"d7ee4c56-08ba-4873-95e2-78df2de5ec1e\")>"
      ]
     },
     "execution_count": 89,
     "metadata": {},
     "output_type": "execute_result"
    }
   ],
   "source": [
    "next_btn=driver.find_element_by_xpath('/html/body/div[1]/div/div[3]/div[1]/div[2]/div[12]/div/div/nav/a[12]/span')\n",
    "next_btn"
   ]
  },
  {
   "cell_type": "code",
   "execution_count": 90,
   "id": "39646543",
   "metadata": {},
   "outputs": [],
   "source": [
    "next_btn.click()"
   ]
  },
  {
   "cell_type": "code",
   "execution_count": 91,
   "id": "a60cdd09",
   "metadata": {},
   "outputs": [
    {
     "data": {
      "text/plain": [
       "40"
      ]
     },
     "execution_count": 91,
     "metadata": {},
     "output_type": "execute_result"
    }
   ],
   "source": [
    "brands_tags=driver.find_elements_by_xpath('//div[@class=\"_2WkVRV\"]')\n",
    "len(brands_tags)"
   ]
  },
  {
   "cell_type": "code",
   "execution_count": 92,
   "id": "ab4c5e1f",
   "metadata": {},
   "outputs": [
    {
     "data": {
      "text/plain": [
       "['ROZZETTA CRAFT',\n",
       " 'hipe',\n",
       " 'Fastrack',\n",
       " 'AISLIN',\n",
       " 'kingsunglasses',\n",
       " 'ROZZETTA CRAFT',\n",
       " 'Rich Club',\n",
       " 'AISLIN',\n",
       " 'New Specs',\n",
       " 'SHAAH COLLECTIONS',\n",
       " 'Lee Topper',\n",
       " 'AISLIN',\n",
       " 'Fastrack',\n",
       " 'ROYAL SON',\n",
       " 'kingsunglasses',\n",
       " 'AISLIN',\n",
       " 'ROZZETTA CRAFT',\n",
       " 'ROZZETTA CRAFT',\n",
       " 'New Specs',\n",
       " 'VINCENT CHASE']"
      ]
     },
     "execution_count": 92,
     "metadata": {},
     "output_type": "execute_result"
    }
   ],
   "source": [
    "brand_titles3=[]\n",
    "for i in brands_tags:\n",
    "    brand_titles3.append(i.text)\n",
    "brand_titles3[0:20]"
   ]
  },
  {
   "cell_type": "code",
   "execution_count": 93,
   "id": "ce31367e",
   "metadata": {},
   "outputs": [
    {
     "data": {
      "text/plain": [
       "40"
      ]
     },
     "execution_count": 93,
     "metadata": {},
     "output_type": "execute_result"
    }
   ],
   "source": [
    "description_tags=driver.find_elements_by_xpath('//a[@class=\"IRpwTa\"]')\n",
    "len(description_tags)"
   ]
  },
  {
   "cell_type": "code",
   "execution_count": 94,
   "id": "9cc834fc",
   "metadata": {},
   "outputs": [
    {
     "data": {
      "text/plain": [
       "['Mirrored, UV Protection Round Sunglasses (Free Size)',\n",
       " 'UV Protection, Gradient, Mirrored, Riding Glasses Aviat...',\n",
       " 'Gradient, UV Protection Wayfarer Sunglasses (Free Size)',\n",
       " 'Polarized, UV Protection, Gradient Round Sunglasses (56...',\n",
       " 'UV Protection, Mirrored Aviator Sunglasses (Free Size)',\n",
       " 'UV Protection, Gradient Round Sunglasses (Free Size)',\n",
       " 'Polarized Round Sunglasses (48)',\n",
       " 'Toughened Glass Lens, UV Protection Aviator Sunglasses ...',\n",
       " 'UV Protection Rectangular Sunglasses (Free Size)',\n",
       " 'UV Protection Round Sunglasses (Free Size)',\n",
       " 'UV Protection Round Sunglasses (Free Size)',\n",
       " 'UV Protection, Gradient Wayfarer, Over-sized Sunglasses...',\n",
       " 'UV Protection Wayfarer Sunglasses (Free Size)',\n",
       " 'Mirrored Aviator Sunglasses (58)',\n",
       " 'Mirrored, UV Protection Aviator Sunglasses (56)',\n",
       " 'UV Protection, Gradient Butterfly, Wayfarer Sunglasses ...',\n",
       " 'UV Protection Round Sunglasses (Free Size)',\n",
       " 'UV Protection, Gradient Round Sunglasses (Free Size)',\n",
       " 'UV Protection Round Sunglasses (Free Size)',\n",
       " 'by Lenskart Polarized, UV Protection Aviator Sunglasses...']"
      ]
     },
     "execution_count": 94,
     "metadata": {},
     "output_type": "execute_result"
    }
   ],
   "source": [
    "description_names3=[]\n",
    "for j in description_tags:\n",
    "    description_names3.append(j.text)\n",
    "description_names3[0:20]"
   ]
  },
  {
   "cell_type": "code",
   "execution_count": 95,
   "id": "05105ae5",
   "metadata": {},
   "outputs": [
    {
     "data": {
      "text/plain": [
       "40"
      ]
     },
     "execution_count": 95,
     "metadata": {},
     "output_type": "execute_result"
    }
   ],
   "source": [
    "price_tags=driver.find_elements_by_xpath('//div[@class=\"_30jeq3\"]')\n",
    "len(price_tags)"
   ]
  },
  {
   "cell_type": "code",
   "execution_count": 96,
   "id": "5d5f3f1f",
   "metadata": {},
   "outputs": [
    {
     "data": {
      "text/plain": [
       "['₹360',\n",
       " '₹209',\n",
       " '₹659',\n",
       " '₹1,007',\n",
       " '₹235',\n",
       " '₹360',\n",
       " '₹163',\n",
       " '₹829',\n",
       " '₹169',\n",
       " '₹270',\n",
       " '₹244',\n",
       " '₹625',\n",
       " '₹759',\n",
       " '₹359',\n",
       " '₹211',\n",
       " '₹450',\n",
       " '₹426',\n",
       " '₹426',\n",
       " '₹233',\n",
       " '₹1,179']"
      ]
     },
     "execution_count": 96,
     "metadata": {},
     "output_type": "execute_result"
    }
   ],
   "source": [
    "price3=[]\n",
    "for k in price_tags:\n",
    "    price3.append(k.text)\n",
    "price3[0:20]"
   ]
  },
  {
   "cell_type": "code",
   "execution_count": 97,
   "id": "10717217",
   "metadata": {},
   "outputs": [
    {
     "data": {
      "text/plain": [
       "40"
      ]
     },
     "execution_count": 97,
     "metadata": {},
     "output_type": "execute_result"
    }
   ],
   "source": [
    "discount_tags=driver.find_elements_by_xpath('//div[@class=\"_3Ay6Sb\"]')\n",
    "len(discount_tags)"
   ]
  },
  {
   "cell_type": "code",
   "execution_count": 98,
   "id": "0ceed167",
   "metadata": {},
   "outputs": [
    {
     "data": {
      "text/plain": [
       "['75% off',\n",
       " '79% off',\n",
       " '17% off',\n",
       " '76% off',\n",
       " '87% off',\n",
       " '81% off',\n",
       " '67% off',\n",
       " '77% off',\n",
       " '89% off',\n",
       " '84% off',\n",
       " '75% off',\n",
       " '70% off',\n",
       " '15% off',\n",
       " '76% off',\n",
       " '83% off',\n",
       " '70% off',\n",
       " '84% off',\n",
       " '78% off',\n",
       " '82% off',\n",
       " '41% off']"
      ]
     },
     "execution_count": 98,
     "metadata": {},
     "output_type": "execute_result"
    }
   ],
   "source": [
    "discount3=[]\n",
    "for k in discount_tags:\n",
    "    discount3.append(k.text)\n",
    "discount3[0:20]"
   ]
  },
  {
   "cell_type": "code",
   "execution_count": 107,
   "id": "82b397cf",
   "metadata": {},
   "outputs": [
    {
     "data": {
      "text/html": [
       "<div>\n",
       "<style scoped>\n",
       "    .dataframe tbody tr th:only-of-type {\n",
       "        vertical-align: middle;\n",
       "    }\n",
       "\n",
       "    .dataframe tbody tr th {\n",
       "        vertical-align: top;\n",
       "    }\n",
       "\n",
       "    .dataframe thead th {\n",
       "        text-align: right;\n",
       "    }\n",
       "</style>\n",
       "<table border=\"1\" class=\"dataframe\">\n",
       "  <thead>\n",
       "    <tr style=\"text-align: right;\">\n",
       "      <th></th>\n",
       "      <th>Brand</th>\n",
       "      <th>Product Description</th>\n",
       "      <th>Price</th>\n",
       "      <th>Discount</th>\n",
       "    </tr>\n",
       "  </thead>\n",
       "  <tbody>\n",
       "    <tr>\n",
       "      <th>0</th>\n",
       "      <td>VINCENT CHASE</td>\n",
       "      <td>by Lenskart UV Protection Aviator Sunglasses (...</td>\n",
       "      <td>₹999</td>\n",
       "      <td>50% off</td>\n",
       "    </tr>\n",
       "    <tr>\n",
       "      <th>1</th>\n",
       "      <td>VINCENT CHASE</td>\n",
       "      <td>by Lenskart Polarized, UV Protection Aviator S...</td>\n",
       "      <td>₹999</td>\n",
       "      <td>60% off</td>\n",
       "    </tr>\n",
       "    <tr>\n",
       "      <th>2</th>\n",
       "      <td>SRPM</td>\n",
       "      <td>UV Protection Wayfarer Sunglasses (56)</td>\n",
       "      <td>₹188</td>\n",
       "      <td>85% off</td>\n",
       "    </tr>\n",
       "    <tr>\n",
       "      <th>3</th>\n",
       "      <td>kingsunglasses</td>\n",
       "      <td>UV Protection Round Sunglasses (54)</td>\n",
       "      <td>₹189</td>\n",
       "      <td>82% off</td>\n",
       "    </tr>\n",
       "    <tr>\n",
       "      <th>4</th>\n",
       "      <td>SHAAH COLLECTIONS</td>\n",
       "      <td>UV Protection, Polarized, Mirrored Rectangular...</td>\n",
       "      <td>₹165</td>\n",
       "      <td>90% off</td>\n",
       "    </tr>\n",
       "    <tr>\n",
       "      <th>...</th>\n",
       "      <td>...</td>\n",
       "      <td>...</td>\n",
       "      <td>...</td>\n",
       "      <td>...</td>\n",
       "    </tr>\n",
       "    <tr>\n",
       "      <th>15</th>\n",
       "      <td>AISLIN</td>\n",
       "      <td>UV Protection, Gradient Butterfly, Wayfarer Su...</td>\n",
       "      <td>₹450</td>\n",
       "      <td>70% off</td>\n",
       "    </tr>\n",
       "    <tr>\n",
       "      <th>16</th>\n",
       "      <td>ROZZETTA CRAFT</td>\n",
       "      <td>UV Protection Round Sunglasses (Free Size)</td>\n",
       "      <td>₹426</td>\n",
       "      <td>84% off</td>\n",
       "    </tr>\n",
       "    <tr>\n",
       "      <th>17</th>\n",
       "      <td>ROZZETTA CRAFT</td>\n",
       "      <td>UV Protection, Gradient Round Sunglasses (Free...</td>\n",
       "      <td>₹426</td>\n",
       "      <td>78% off</td>\n",
       "    </tr>\n",
       "    <tr>\n",
       "      <th>18</th>\n",
       "      <td>New Specs</td>\n",
       "      <td>UV Protection Round Sunglasses (Free Size)</td>\n",
       "      <td>₹233</td>\n",
       "      <td>82% off</td>\n",
       "    </tr>\n",
       "    <tr>\n",
       "      <th>19</th>\n",
       "      <td>VINCENT CHASE</td>\n",
       "      <td>by Lenskart Polarized, UV Protection Aviator S...</td>\n",
       "      <td>₹1,179</td>\n",
       "      <td>41% off</td>\n",
       "    </tr>\n",
       "  </tbody>\n",
       "</table>\n",
       "<p>100 rows × 4 columns</p>\n",
       "</div>"
      ],
      "text/plain": [
       "                Brand                               Product Description   \\\n",
       "0       VINCENT CHASE  by Lenskart UV Protection Aviator Sunglasses (...   \n",
       "1       VINCENT CHASE  by Lenskart Polarized, UV Protection Aviator S...   \n",
       "2                SRPM             UV Protection Wayfarer Sunglasses (56)   \n",
       "3      kingsunglasses                UV Protection Round Sunglasses (54)   \n",
       "4   SHAAH COLLECTIONS  UV Protection, Polarized, Mirrored Rectangular...   \n",
       "..                ...                                                ...   \n",
       "15             AISLIN  UV Protection, Gradient Butterfly, Wayfarer Su...   \n",
       "16     ROZZETTA CRAFT         UV Protection Round Sunglasses (Free Size)   \n",
       "17     ROZZETTA CRAFT  UV Protection, Gradient Round Sunglasses (Free...   \n",
       "18          New Specs         UV Protection Round Sunglasses (Free Size)   \n",
       "19      VINCENT CHASE  by Lenskart Polarized, UV Protection Aviator S...   \n",
       "\n",
       "     Price Discount  \n",
       "0     ₹999  50% off  \n",
       "1     ₹999  60% off  \n",
       "2     ₹188  85% off  \n",
       "3     ₹189  82% off  \n",
       "4     ₹165  90% off  \n",
       "..     ...      ...  \n",
       "15    ₹450  70% off  \n",
       "16    ₹426  84% off  \n",
       "17    ₹426  78% off  \n",
       "18    ₹233  82% off  \n",
       "19  ₹1,179  41% off  \n",
       "\n",
       "[100 rows x 4 columns]"
      ]
     },
     "execution_count": 107,
     "metadata": {},
     "output_type": "execute_result"
    }
   ],
   "source": [
    "sunglasses1=pd.DataFrame()\n",
    "sunglasses1['Brand']= brand_titles\n",
    "sunglasses1['Product Description ']= description_names\n",
    "sunglasses1['Price']= price\n",
    "sunglasses1['Discount']= discount\n",
    "\n",
    "sunglasses2=pd.DataFrame()\n",
    "sunglasses2['Brand']= brand_titles2\n",
    "sunglasses2['Product Description ']= description_names2\n",
    "sunglasses2['Price']= price2\n",
    "sunglasses2['Discount']= discount2\n",
    "\n",
    "sunglasses3=pd.DataFrame()\n",
    "sunglasses3['Brand']= brand_titles3\n",
    "sunglasses3['Product Description ']= description_names3\n",
    "sunglasses3['Price']= price3\n",
    "sunglasses3['Discount']= discount3\n",
    "\n",
    "\n",
    "sunglasses=pd.concat([sunglasses1,sunglasses2,sunglasses3[0:20]])\n",
    "sunglasses"
   ]
  },
  {
   "cell_type": "code",
   "execution_count": null,
   "id": "27e7d7b8",
   "metadata": {},
   "outputs": [],
   "source": []
  }
 ],
 "metadata": {
  "kernelspec": {
   "display_name": "Python 3",
   "language": "python",
   "name": "python3"
  },
  "language_info": {
   "codemirror_mode": {
    "name": "ipython",
    "version": 3
   },
   "file_extension": ".py",
   "mimetype": "text/x-python",
   "name": "python",
   "nbconvert_exporter": "python",
   "pygments_lexer": "ipython3",
   "version": "3.8.8"
  }
 },
 "nbformat": 4,
 "nbformat_minor": 5
}
